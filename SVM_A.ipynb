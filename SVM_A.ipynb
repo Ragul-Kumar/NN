{
 "cells": [
  {
   "cell_type": "code",
   "execution_count": null,
   "metadata": {},
   "outputs": [
    {
     "ename": "AttributeError",
     "evalue": "'tuple' object has no attribute 'head'",
     "output_type": "error",
     "traceback": [
      "\u001b[1;31m---------------------------------------------------------------------------\u001b[0m",
      "\u001b[1;31mAttributeError\u001b[0m                            Traceback (most recent call last)",
      "Cell \u001b[1;32mIn[4], line 13\u001b[0m\n\u001b[0;32m     11\u001b[0m \u001b[38;5;66;03m# Load data\u001b[39;00m\n\u001b[0;32m     12\u001b[0m df \u001b[38;5;241m=\u001b[39m  d\u001b[38;5;241m.\u001b[39mmake_blobs(n_samples\u001b[38;5;241m=\u001b[39m\u001b[38;5;241m1000\u001b[39m)\n\u001b[1;32m---> 13\u001b[0m display(\u001b[43mdf\u001b[49m\u001b[38;5;241;43m.\u001b[39;49m\u001b[43mhead\u001b[49m()) \n\u001b[0;32m     15\u001b[0m \u001b[38;5;66;03m# Prepare features and target\u001b[39;00m\n\u001b[0;32m     16\u001b[0m X \u001b[38;5;241m=\u001b[39m df\u001b[38;5;241m.\u001b[39miloc[:, [\u001b[38;5;241m2\u001b[39m, \u001b[38;5;241m3\u001b[39m]]\u001b[38;5;241m.\u001b[39mvalues  \u001b[38;5;66;03m# Adjust if necessary\u001b[39;00m\n",
      "\u001b[1;31mAttributeError\u001b[0m: 'tuple' object has no attribute 'head'"
     ]
    }
   ],
   "source": [
    "import numpy as np \n",
    "import pandas as pd \n",
    "import matplotlib.pyplot as plt \n",
    "from matplotlib.colors import ListedColormap \n",
    "from sklearn.preprocessing import StandardScaler \n",
    "from sklearn.model_selection import train_test_split \n",
    "from sklearn.metrics import confusion_matrix, accuracy_score \n",
    "from sklearn.svm import SVC \n",
    "import sklearn.datasets as d\n",
    "\n",
    "df =  d.make_blobs(n_samples=1000)\n",
    "display(df.head()) \n",
    "\n",
    "# Prepare features and target\n",
    "X = df.iloc[:, [2, 3]].values  # Adjust if necessary\n",
    "y = df.iloc[:, 4].values  # Adjust if necessary\n",
    "\n",
    "# Split dataset\n",
    "x_train, x_test, y_train, y_test = train_test_split(X, y, test_size=0.25, random_state=0) \n",
    "\n",
    "# Standardize features\n",
    "sc = StandardScaler() \n",
    "x_train = sc.fit_transform(x_train) \n",
    "x_test = sc.transform(x_test) \n",
    "\n",
    "# Train SVM model\n",
    "classifier = SVC(kernel='rbf', random_state=0) \n",
    "classifier.fit(x_train, y_train) \n",
    "\n",
    "# Make predictions and evaluate\n",
    "y_pred = classifier.predict(x_test) \n",
    "cm = confusion_matrix(y_pred, y_test) \n",
    "accuracy = accuracy_score(y_pred, y_test) \n",
    "print(\"Confusion Matrix:\\n\", cm) \n",
    "print(\"Accuracy:\", accuracy)\n",
    "\n",
    "# Visualize results\n",
    "X1, X2 = np.meshgrid(\n",
    "    np.arange(start=x_test[:, 0].min() - 1, stop=x_test[:, 0].max() + 1, step=0.01),  \n",
    "    np.arange(start=x_test[:, 1].min() - 1, stop=x_test[:, 1].max() + 1, step=0.01)\n",
    ")\n",
    "plt.contourf(\n",
    "    X1, X2, \n",
    "    classifier.predict(np.array([X1.ravel(), X2.ravel()]).T).reshape(X1.shape), \n",
    "    alpha=0.75,  \n",
    "    cmap=ListedColormap(('red', 'green'))\n",
    ")\n",
    "plt.xlim(X1.min(), X1.max())\n",
    "plt.ylim(X2.min(), X2.max())  # Corrected Y-axis limits\n",
    "\n",
    "# Plot test points\n",
    "for i, j in enumerate(np.unique(y_test)): \n",
    "    plt.scatter(x_test[y_test == j, 0], x_test[y_test == j, 1], \n",
    "                color=ListedColormap(('red', 'green'))(i), label=j) \n",
    "\n",
    "# Add labels and title\n",
    "plt.title('SVM (Test set)') \n",
    "plt.xlabel('Age') \n",
    "plt.ylabel('Estimated Salary') \n",
    "plt.legend() \n",
    "plt.show()\n"
   ]
  }
 ],
 "metadata": {
  "kernelspec": {
   "display_name": "Python 3",
   "language": "python",
   "name": "python3"
  },
  "language_info": {
   "codemirror_mode": {
    "name": "ipython",
    "version": 3
   },
   "file_extension": ".py",
   "mimetype": "text/x-python",
   "name": "python",
   "nbconvert_exporter": "python",
   "pygments_lexer": "ipython3",
   "version": "3.12.3"
  }
 },
 "nbformat": 4,
 "nbformat_minor": 2
}
