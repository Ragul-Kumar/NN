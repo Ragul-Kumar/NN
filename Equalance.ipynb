{
 "cells": [
  {
   "cell_type": "code",
   "execution_count": 1,
   "metadata": {},
   "outputs": [
    {
     "name": "stdout",
     "output_type": "stream",
     "text": [
      "Matrix does not satisfy tolerance properties.\n",
      "Matrix does not satisfy equivalence properties. Applying Min-Max composition.\n",
      "Result after Min-Max composition:\n",
      " [[1.  0.5 0.5]\n",
      " [0.5 1.  0.5]\n",
      " [0.5 0.5 1. ]]\n"
     ]
    }
   ],
   "source": [
    "import numpy as np\n",
    "\n",
    "def is_symmetric(matrix):\n",
    "    return np.array_equal(matrix, matrix.T)\n",
    "\n",
    "def is_transitive(matrix):\n",
    "    n = matrix.shape[0]\n",
    "    for i in range(n):\n",
    "        for j in range(n):\n",
    "            for k in range(n):\n",
    "                if matrix[i, j] and matrix[j, k]:\n",
    "                    if not matrix[i, k]:\n",
    "                        return False\n",
    "    return True\n",
    "\n",
    "def is_reflexive(matrix):\n",
    "    return np.all(np.diag(matrix) == 1)\n",
    "\n",
    "def check_tolerance(matrix):\n",
    "    return is_symmetric(matrix) and is_transitive(matrix)\n",
    "\n",
    "def check_equivalence(matrix):\n",
    "    return is_symmetric(matrix) and is_transitive(matrix) and is_reflexive(matrix)\n",
    "\n",
    "def min_max_composition(matrix):\n",
    "    n = matrix.shape[0]\n",
    "    result = np.zeros((n, n))\n",
    "    for i in range(n):\n",
    "        for j in range(n):\n",
    "            result[i, j] = max(min(matrix[i, k], matrix[k, j]) for k in range(n))\n",
    "    return result\n",
    "\n",
    "# Example matrix\n",
    "matrix = np.array([\n",
    "    [1, 0.5, 0],\n",
    "    [0.5, 1, 0.5],\n",
    "    [0, 0.5, 1]\n",
    "])\n",
    "\n",
    "# Check Tolerance\n",
    "if check_tolerance(matrix):\n",
    "    print(\"Matrix satisfies tolerance properties (Symmetric and Transitive).\")\n",
    "else:\n",
    "    print(\"Matrix does not satisfy tolerance properties.\")\n",
    "\n",
    "# Check Equivalence\n",
    "if check_equivalence(matrix):\n",
    "    print(\"Matrix satisfies equivalence properties (Symmetric, Transitive, and Reflexive).\")\n",
    "else:\n",
    "    print(\"Matrix does not satisfy equivalence properties. Applying Min-Max composition.\")\n",
    "    matrix = min_max_composition(matrix)\n",
    "    print(\"Result after Min-Max composition:\\n\", matrix)\n"
   ]
  }
 ],
 "metadata": {
  "kernelspec": {
   "display_name": "Python 3",
   "language": "python",
   "name": "python3"
  },
  "language_info": {
   "codemirror_mode": {
    "name": "ipython",
    "version": 3
   },
   "file_extension": ".py",
   "mimetype": "text/x-python",
   "name": "python",
   "nbconvert_exporter": "python",
   "pygments_lexer": "ipython3",
   "version": "3.12.3"
  }
 },
 "nbformat": 4,
 "nbformat_minor": 2
}
