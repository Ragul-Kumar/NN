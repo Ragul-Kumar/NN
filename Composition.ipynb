{
 "cells": [
  {
   "cell_type": "code",
   "execution_count": null,
   "metadata": {},
   "outputs": [
    {
     "name": "stdout",
     "output_type": "stream",
     "text": [
      "R ∘ S:\n",
      " [[1. 1. 1.]\n",
      " [1. 1. 1.]\n",
      " [1. 0. 1.]]\n",
      "S ∘ R:\n",
      " [[1. 1. 1.]\n",
      " [0. 1. 1.]\n",
      " [1. 0. 1.]]\n",
      "R ∘ S is not equal to S ∘ R\n"
     ]
    }
   ],
   "source": [
    "import numpy as np\n",
    "\n",
    "def matrix_composition(R, S):\n",
    "    n = R.shape[0]\n",
    "    composition = np.zeros((n, n))\n",
    "    for i in range(n):\n",
    "        for j in range(n):\n",
    "            composition[i, j] = max(min(R[i, k], S[k, j]) for k in range(n))\n",
    "    return composition\n",
    "\n",
    "\n",
    "R = np.array([\n",
    "    [1, 0, 1],\n",
    "    [0, 1, 1],\n",
    "    [0, 0, 1]\n",
    "])\n",
    "\n",
    "S = np.array([\n",
    "    [1, 1, 0],\n",
    "    [0, 1, 0],\n",
    "    [1, 0, 1]\n",
    "])\n",
    "\n",
    "R_comp_S = matrix_composition(R, S)\n",
    "\n",
    "S_comp_R = matrix_composition(S, R)\n",
    "\n",
    "print(\"R ∘ S:\\n\", R_comp_S)\n",
    "print(\"S ∘ R:\\n\", S_comp_R)\n",
    "\n",
    "if np.array_equal(R_comp_S, S_comp_R):\n",
    "    print(\"R ∘ S is equal to S ∘ R\")\n",
    "else:\n",
    "    print(\"R ∘ S is not equal to S ∘ R\")\n"
   ]
  }
 ],
 "metadata": {
  "kernelspec": {
   "display_name": "Python 3",
   "language": "python",
   "name": "python3"
  },
  "language_info": {
   "codemirror_mode": {
    "name": "ipython",
    "version": 3
   },
   "file_extension": ".py",
   "mimetype": "text/x-python",
   "name": "python",
   "nbconvert_exporter": "python",
   "pygments_lexer": "ipython3",
   "version": "3.12.3"
  }
 },
 "nbformat": 4,
 "nbformat_minor": 2
}
