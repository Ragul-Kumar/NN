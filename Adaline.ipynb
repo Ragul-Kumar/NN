{
 "cells": [
  {
   "cell_type": "code",
   "execution_count": 1,
   "metadata": {},
   "outputs": [
    {
     "name": "stdout",
     "output_type": "stream",
     "text": [
      "Epoch 1/10, MSE: 0.5486\n",
      "Epoch 2/10, MSE: 0.2003\n",
      "Epoch 3/10, MSE: 0.1183\n",
      "Epoch 4/10, MSE: 0.0979\n",
      "Epoch 5/10, MSE: 0.0919\n",
      "Epoch 6/10, MSE: 0.0893\n",
      "Epoch 7/10, MSE: 0.0877\n",
      "Epoch 8/10, MSE: 0.0863\n",
      "Epoch 9/10, MSE: 0.0852\n",
      "Epoch 10/10, MSE: 0.0842\n",
      "OR Gate (predicted outputs):\n",
      "Input: [0 0], Predicted: 0.39835043566945716\n",
      "Input: [0 1], Predicted: 0.7783337000724977\n",
      "Input: [1 0], Predicted: 0.7554763911655682\n",
      "Input: [1 1], Predicted: 1.1354596555686087\n"
     ]
    }
   ],
   "source": [
    "import numpy as np\n",
    "\n",
    "class Adaline:\n",
    "    def __init__(self, learning_rate=0.01, epochs=100):\n",
    "        self.learning_rate = learning_rate\n",
    "        self.epochs = epochs\n",
    "        self.weights = None\n",
    "        self.bias = 0\n",
    "    \n",
    "    def net_input(self, x):\n",
    "        \"\"\"Calculate net input\"\"\"\n",
    "        return np.dot(x, self.weights) + self.bias\n",
    "    \n",
    "    def predict(self, x):\n",
    "        \"\"\"Predict output (activation function is linear)\"\"\"\n",
    "        return self.net_input(x)\n",
    "    \n",
    "    def fit(self, X, y):\n",
    "        \"\"\"Fit the model to the training data\"\"\"\n",
    "        n_samples, n_features = X.shape\n",
    "        self.weights = np.zeros(n_features)\n",
    "        \n",
    "        for epoch in range(self.epochs):\n",
    "            errors = []\n",
    "            for x_i, y_i in zip(X, y):\n",
    "                output = self.predict(x_i)\n",
    "                error = y_i - output\n",
    "                # Update weights and bias based on the error\n",
    "                self.weights += self.learning_rate * error * x_i\n",
    "                self.bias += self.learning_rate * error\n",
    "                errors.append(error ** 2)\n",
    "            # Print MSE for each epoch\n",
    "            mse = np.mean(errors)\n",
    "            print(f'Epoch {epoch+1}/{self.epochs}, MSE: {mse:.4f}')\n",
    "    \n",
    "if __name__ == '__main__':\n",
    "    # Training data for OR gate\n",
    "    X = np.array([[0, 0], [0, 1], [1, 0], [1, 1]])\n",
    "    y = np.array([0, 1, 1, 1])\n",
    "\n",
    "    adaline = Adaline(learning_rate=0.1, epochs=10)\n",
    "    adaline.fit(X, y)\n",
    "\n",
    "    # Display results\n",
    "    print(\"OR Gate (predicted outputs):\")\n",
    "    for x in X:\n",
    "        print(f\"Input: {x}, Predicted: {adaline.predict(x)}\")\n"
   ]
  }
 ],
 "metadata": {
  "kernelspec": {
   "display_name": "Python 3",
   "language": "python",
   "name": "python3"
  },
  "language_info": {
   "codemirror_mode": {
    "name": "ipython",
    "version": 3
   },
   "file_extension": ".py",
   "mimetype": "text/x-python",
   "name": "python",
   "nbconvert_exporter": "python",
   "pygments_lexer": "ipython3",
   "version": "3.12.3"
  }
 },
 "nbformat": 4,
 "nbformat_minor": 2
}
